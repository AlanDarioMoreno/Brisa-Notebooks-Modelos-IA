{
  "nbformat": 4,
  "nbformat_minor": 0,
  "metadata": {
    "colab": {
      "provenance": [],
      "machine_shape": "hm",
      "gpuType": "A100",
      "toc_visible": true,
      "include_colab_link": true
    },
    "kernelspec": {
      "name": "python3",
      "display_name": "Python 3"
    },
    "language_info": {
      "name": "python"
    },
    "accelerator": "GPU"
  },
  "cells": [
    {
      "cell_type": "markdown",
      "metadata": {
        "id": "view-in-github",
        "colab_type": "text"
      },
      "source": [
        "<a href=\"https://colab.research.google.com/github/AlanDarioMoreno/Brisa-Notebooks-Modelos-IA/blob/ArmadoDataset/Armado_de_Dataset.ipynb\" target=\"_parent\"><img src=\"https://colab.research.google.com/assets/colab-badge.svg\" alt=\"Open In Colab\"/></a>"
      ]
    },
    {
      "cell_type": "code",
      "source": [
        "import os\n",
        "import pandas as pd\n",
        "import shutil\n",
        "\n",
        "# Directorio donde están todas las imágenes descargadas\n",
        "source_folder = \"D:/ORT/04-Cuarto_Cuatri/PROYECTO FINAL/Ojos/OjosGrandes/resized_train_cropped/resized_train_cropped\"\n",
        "\n",
        "# Directorio donde se crearán las carpetas de cada clase\n",
        "output_folder = \"D:/ORT/04-Cuarto_Cuatri/PROYECTO FINAL/Ojos/OjosGrandes/Ojos_512x512\"\n",
        "\n",
        "excelPath = \"D:/ORT/04-Cuarto_Cuatri/PROYECTO FINAL/Ojos/OjosGrandes/trainLabels_cropped.csv\"\n",
        "# Cargar la hoja de cálculo con los labels\n",
        "labels_df = pd.read_csv(excelPath, header=0,usecols=[2, 3], names=['image', 'level'])\n",
        "\n",
        "# Crear una carpeta para cada nivel si no existe\n",
        "for index, row in labels_df.iterrows():\n",
        "    image_name = str(row['image']) + '.jpeg'  # Asegúrate de que esta extensión coincide con las imágenes\n",
        "    label = row['level']\n",
        "\n",
        "    # Crear la carpeta de la clase si no existe\n",
        "    class_folder = os.path.join(output_folder, str(label))\n",
        "    os.makedirs(class_folder, exist_ok=True)\n",
        "\n",
        "    # Mover la imagen a la carpeta correspondiente\n",
        "    source_path = os.path.join(source_folder, image_name)\n",
        "    destination_path = os.path.join(class_folder, image_name)\n",
        "    if os.path.exists(source_path):\n",
        "        shutil.move(source_path, destination_path)\n",
        "    else:\n",
        "        print(f\"Imagen no encontrada: {source_path}\")\n",
        "\n",
        "print(\"Imágenes separadas en carpetas por clase.\")\n"
      ],
      "metadata": {
        "id": "cFsxBAve0uEP"
      },
      "execution_count": null,
      "outputs": []
    }
  ]
}